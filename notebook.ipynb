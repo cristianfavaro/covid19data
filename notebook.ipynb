{
 "cells": [
  {
   "cell_type": "code",
   "execution_count": 1,
   "id": "d72504b6-f941-4a1f-918f-36e6155a7123",
   "metadata": {},
   "outputs": [],
   "source": [
    "import pandas as pd"
   ]
  },
  {
   "cell_type": "code",
   "execution_count": 2,
   "id": "6fcc0732-1df2-45b7-8c69-8c05c7d26f24",
   "metadata": {},
   "outputs": [],
   "source": [
    "df_covid = pd.read_csv('brasilio_covid_data.csv') #lendo base brasilIO"
   ]
  },
  {
   "cell_type": "code",
   "execution_count": 3,
   "id": "94da1431-8ac9-46c7-8dac-6a4c9cacc39a",
   "metadata": {},
   "outputs": [],
   "source": [
    "df_eco = pd.read_csv('pnud_data.csv', sep=\";\") #lendo base pnud"
   ]
  },
  {
   "cell_type": "code",
   "execution_count": 4,
   "id": "8bf024ee-4194-470e-856d-568a56b914da",
   "metadata": {},
   "outputs": [],
   "source": [
    "df_eco = df_eco.rename(columns={\"Município\": \"city\", \"Estado\": \"state\"}) #renomeando as colunas para fazer o merge"
   ]
  },
  {
   "cell_type": "code",
   "execution_count": 5,
   "id": "8af145bc-f732-4f23-938c-9b1ead51f9d4",
   "metadata": {},
   "outputs": [],
   "source": [
    "df_eco.city = df_eco.city.str.strip() #retirando espaços do texto"
   ]
  },
  {
   "cell_type": "code",
   "execution_count": 7,
   "id": "ffa8384c-8133-4003-94ba-cf14b4bcddc2",
   "metadata": {},
   "outputs": [],
   "source": [
    "df_covid.city = df_covid.city.str.strip() #retirando espaços"
   ]
  },
  {
   "cell_type": "code",
   "execution_count": 8,
   "id": "36d6efd1-0aa9-4e10-bc83-f1f57d242559",
   "metadata": {},
   "outputs": [],
   "source": [
    "new_df = pd.merge(\n",
    "    df_covid,\n",
    "    df_eco,\n",
    "    how=\"inner\", on =[\"city\", \"state\"]\n",
    ") #aplicando o merge, mas considerando duas variáveis para evitar bagunça em municípios com nomes iguais."
   ]
  },
  {
   "cell_type": "code",
   "execution_count": 11,
   "id": "80241ba8-8860-4349-98c4-5a3c3654c710",
   "metadata": {},
   "outputs": [],
   "source": [
    "new_df.to_csv(\"merged_data.csv\", sep=\";\", index=False) #salvando em CSV"
   ]
  }
 ],
 "metadata": {
  "kernelspec": {
   "display_name": "Python 3 (ipykernel)",
   "language": "python",
   "name": "python3"
  },
  "language_info": {
   "codemirror_mode": {
    "name": "ipython",
    "version": 3
   },
   "file_extension": ".py",
   "mimetype": "text/x-python",
   "name": "python",
   "nbconvert_exporter": "python",
   "pygments_lexer": "ipython3",
   "version": "3.10.5"
  }
 },
 "nbformat": 4,
 "nbformat_minor": 5
}
